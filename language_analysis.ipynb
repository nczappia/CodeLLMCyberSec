{
 "cells": [
  {
   "cell_type": "markdown",
   "metadata": {},
   "source": [
    "## Finding Examples in Code_120k in C"
   ]
  },
  {
   "cell_type": "code",
   "execution_count": 2,
   "metadata": {},
   "outputs": [],
   "source": [
    "import pyarrow.parquet as pq\n",
    "import pyarrow as pa\n",
    "\n",
    "code_table = pq.read_table(\"train-00000-of-00001-d9b93805488c263e.parquet\")"
   ]
  },
  {
   "cell_type": "code",
   "execution_count": 7,
   "metadata": {},
   "outputs": [
    {
     "name": "stdout",
     "output_type": "stream",
     "text": [
      "121959\n"
     ]
    }
   ],
   "source": [
    "sum = 0\n",
    "for i, category in enumerate(code_table):\n",
    "    for example in category:\n",
    "        if i==0:\n",
    "            sum+=1\n",
    "print(sum)"
   ]
  },
  {
   "cell_type": "code",
   "execution_count": 8,
   "metadata": {},
   "outputs": [
    {
     "data": {
      "text/plain": [
       "['instruction', 'input', 'output', 'prompt']"
      ]
     },
     "execution_count": 8,
     "metadata": {},
     "output_type": "execute_result"
    }
   ],
   "source": [
    "code_table.column_names"
   ]
  },
  {
   "cell_type": "code",
   "execution_count": 11,
   "metadata": {},
   "outputs": [
    {
     "data": {
      "text/plain": [
       "<pyarrow.lib.ChunkedArray object at 0x70543c1c0d60>\n",
       "[\n",
       "  [\n",
       "    \"Create a function to calculate the sum of a sequence of integers.\"\n",
       "  ]\n",
       "]"
      ]
     },
     "execution_count": 11,
     "metadata": {},
     "output_type": "execute_result"
    }
   ],
   "source": [
    "code_table.column('instruction').take([0])"
   ]
  },
  {
   "cell_type": "code",
   "execution_count": 12,
   "metadata": {},
   "outputs": [],
   "source": [
    "len(code_table.column('instruction'))"
   ]
  },
  {
   "cell_type": "code",
   "execution_count": 12,
   "metadata": {},
   "outputs": [
    {
     "data": {
      "text/plain": [
       "instruction: string\n",
       "input: string\n",
       "output: string\n",
       "prompt: string\n",
       "-- schema metadata --\n",
       "huggingface: '{\"info\": {\"features\": {\"instruction\": {\"dtype\": \"string\", \"' + 165"
      ]
     },
     "execution_count": 12,
     "metadata": {},
     "output_type": "execute_result"
    }
   ],
   "source": [
    "code_table.schema"
   ]
  },
  {
   "cell_type": "code",
   "execution_count": 22,
   "metadata": {},
   "outputs": [
    {
     "name": "stdout",
     "output_type": "stream",
     "text": [
      "1541\n",
      "Number of examples with C: 1541\n",
      "1541\n",
      "Examples saved\n"
     ]
    }
   ],
   "source": [
    "import re\n",
    "from pyarrow import Table\n",
    "\n",
    "pattern = r\"\\s+[cC]([\\s.?!,;:])\"\n",
    "\n",
    "sum = 0\n",
    "\n",
    "matching_examples = []\n",
    "\n",
    "c_examples = None\n",
    "\n",
    "for i, instruction in enumerate(code_table.column('instruction')):\n",
    "    example = instruction.as_py()\n",
    "    match = re.search(pattern, example)\n",
    "    if match:\n",
    "        #print(instruction)\n",
    "        sum += 1\n",
    "        new_batch = code_table.slice(i, 1)\n",
    "        #print(new_batch)\n",
    "        matching_examples.append(new_batch)\n",
    "\n",
    "\n",
    "print(len(matching_examples))\n",
    "#print(len(matching_examples[0]))\n",
    "#for value in matching_examples[1540]:\n",
    "    #print(value)\n",
    "print(\"Number of examples with C:\", sum)\n",
    "\n",
    "c_examples = pa.concat_tables(matching_examples)\n",
    "print(len(c_examples))\n",
    "\n",
    "pq.write_table(c_examples, 'c_examples.parquet')\n",
    "print(\"Examples saved\")"
   ]
  },
  {
   "cell_type": "markdown",
   "metadata": {},
   "source": [
    "## Loading C Examples"
   ]
  },
  {
   "cell_type": "code",
   "execution_count": 23,
   "metadata": {},
   "outputs": [],
   "source": [
    "import pyarrow.parquet as pq\n",
    "\n",
    "c_code = pq.read_table(\"c_examples.parquet\")"
   ]
  },
  {
   "cell_type": "code",
   "execution_count": 24,
   "metadata": {},
   "outputs": [
    {
     "data": {
      "text/plain": [
       "1541"
      ]
     },
     "execution_count": 24,
     "metadata": {},
     "output_type": "execute_result"
    }
   ],
   "source": [
    "len(c_code)"
   ]
  },
  {
   "cell_type": "code",
   "execution_count": null,
   "metadata": {},
   "outputs": [],
   "source": [
    "for i in range(len(c_code.column('instruction'))):\n",
    "    if i==3: \n",
    "        break\n",
    "    slice = c_code.slice(i, 1)\n",
    "    print(slice)"
   ]
  },
  {
   "cell_type": "code",
   "execution_count": null,
   "metadata": {},
   "outputs": [],
   "source": [
    "code_table.schema"
   ]
  },
  {
   "cell_type": "markdown",
   "metadata": {},
   "source": [
    "## Find examples of Python in Code_120k"
   ]
  },
  {
   "cell_type": "code",
   "execution_count": 30,
   "metadata": {},
   "outputs": [
    {
     "name": "stdout",
     "output_type": "stream",
     "text": [
      "17997\n",
      "Number of examples with Python: 17997\n",
      "17997\n",
      "Examples saved\n"
     ]
    }
   ],
   "source": [
    "import re\n",
    "from pyarrow import Table\n",
    "\n",
    "pattern = r\"Python|python\"\n",
    "\n",
    "sum = 0\n",
    "\n",
    "matching_examples = []\n",
    "\n",
    "python_examples = None\n",
    "\n",
    "for i, instruction in enumerate(code_table.column('instruction')):\n",
    "    example = instruction.as_py()\n",
    "    match = re.search(pattern, example)\n",
    "    if match:\n",
    "        #print(instruction)\n",
    "        sum += 1\n",
    "        new_batch = code_table.slice(i, 1)\n",
    "        #print(new_batch)\n",
    "        matching_examples.append(new_batch)\n",
    "\n",
    "\n",
    "print(len(matching_examples))\n",
    "#print(len(matching_examples[0]))\n",
    "#for value in matching_examples[1540]:\n",
    "    #print(value)\n",
    "print(\"Number of examples with Python:\", sum)\n",
    "\n",
    "python_examples = pa.concat_tables(matching_examples)\n",
    "print(len(python_examples))\n",
    "\n",
    "pq.write_table(python_examples, 'python_examples.parquet')\n",
    "print(\"Examples saved\")"
   ]
  }
 ],
 "metadata": {
  "kernelspec": {
   "display_name": "Python 3",
   "language": "python",
   "name": "python3"
  },
  "language_info": {
   "codemirror_mode": {
    "name": "ipython",
    "version": 3
   },
   "file_extension": ".py",
   "mimetype": "text/x-python",
   "name": "python",
   "nbconvert_exporter": "python",
   "pygments_lexer": "ipython3",
   "version": "3.10.12"
  }
 },
 "nbformat": 4,
 "nbformat_minor": 2
}
